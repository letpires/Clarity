{
 "cells": [
  {
   "cell_type": "code",
   "execution_count": 2,
   "id": "6cf0f920",
   "metadata": {},
   "outputs": [
    {
     "name": "stdout",
     "output_type": "stream",
     "text": [
      "Requirement already satisfied: pyforest in c:\\users\\letic\\anaconda3\\lib\\site-packages (1.1.0)\n"
     ]
    }
   ],
   "source": [
    "!pip install pyforest"
   ]
  },
  {
   "cell_type": "code",
   "execution_count": 3,
   "id": "f518e920",
   "metadata": {},
   "outputs": [
    {
     "name": "stdout",
     "output_type": "stream",
     "text": [
      "Requirement already satisfied: mediapipe in c:\\users\\letic\\anaconda3\\lib\\site-packages (0.10.7)\n",
      "Requirement already satisfied: absl-py in c:\\users\\letic\\anaconda3\\lib\\site-packages (from mediapipe) (2.0.0)\n",
      "Requirement already satisfied: attrs>=19.1.0 in c:\\users\\letic\\anaconda3\\lib\\site-packages (from mediapipe) (22.1.0)\n",
      "Requirement already satisfied: flatbuffers>=2.0 in c:\\users\\letic\\anaconda3\\lib\\site-packages (from mediapipe) (23.5.26)\n",
      "Requirement already satisfied: matplotlib in c:\\users\\letic\\anaconda3\\lib\\site-packages (from mediapipe) (3.7.2)\n",
      "Requirement already satisfied: numpy in c:\\users\\letic\\anaconda3\\lib\\site-packages (from mediapipe) (1.24.3)\n",
      "Requirement already satisfied: opencv-contrib-python in c:\\users\\letic\\anaconda3\\lib\\site-packages (from mediapipe) (4.8.1.78)\n",
      "Requirement already satisfied: protobuf<4,>=3.11 in c:\\users\\letic\\anaconda3\\lib\\site-packages (from mediapipe) (3.20.3)\n",
      "Requirement already satisfied: sounddevice>=0.4.4 in c:\\users\\letic\\anaconda3\\lib\\site-packages (from mediapipe) (0.4.6)\n",
      "Requirement already satisfied: CFFI>=1.0 in c:\\users\\letic\\anaconda3\\lib\\site-packages (from sounddevice>=0.4.4->mediapipe) (1.15.1)\n",
      "Requirement already satisfied: contourpy>=1.0.1 in c:\\users\\letic\\anaconda3\\lib\\site-packages (from matplotlib->mediapipe) (1.0.5)\n",
      "Requirement already satisfied: cycler>=0.10 in c:\\users\\letic\\anaconda3\\lib\\site-packages (from matplotlib->mediapipe) (0.11.0)\n",
      "Requirement already satisfied: fonttools>=4.22.0 in c:\\users\\letic\\anaconda3\\lib\\site-packages (from matplotlib->mediapipe) (4.25.0)\n",
      "Requirement already satisfied: kiwisolver>=1.0.1 in c:\\users\\letic\\anaconda3\\lib\\site-packages (from matplotlib->mediapipe) (1.4.4)\n",
      "Requirement already satisfied: packaging>=20.0 in c:\\users\\letic\\appdata\\roaming\\python\\python311\\site-packages (from matplotlib->mediapipe) (23.1)\n",
      "Requirement already satisfied: pillow>=6.2.0 in c:\\users\\letic\\anaconda3\\lib\\site-packages (from matplotlib->mediapipe) (9.4.0)\n",
      "Requirement already satisfied: pyparsing<3.1,>=2.3.1 in c:\\users\\letic\\anaconda3\\lib\\site-packages (from matplotlib->mediapipe) (3.0.9)\n",
      "Requirement already satisfied: python-dateutil>=2.7 in c:\\users\\letic\\appdata\\roaming\\python\\python311\\site-packages (from matplotlib->mediapipe) (2.8.2)\n",
      "Requirement already satisfied: pycparser in c:\\users\\letic\\anaconda3\\lib\\site-packages (from CFFI>=1.0->sounddevice>=0.4.4->mediapipe) (2.21)\n",
      "Requirement already satisfied: six>=1.5 in c:\\users\\letic\\appdata\\roaming\\python\\python311\\site-packages (from python-dateutil>=2.7->matplotlib->mediapipe) (1.16.0)\n"
     ]
    }
   ],
   "source": [
    "!pip install mediapipe"
   ]
  },
  {
   "cell_type": "code",
   "execution_count": 4,
   "id": "6029d1fe",
   "metadata": {},
   "outputs": [],
   "source": [
    "import cv2\n",
    "import mediapipe as mp\n",
    "import time"
   ]
  },
  {
   "cell_type": "code",
   "execution_count": 5,
   "id": "9cfa7e5b",
   "metadata": {},
   "outputs": [],
   "source": [
    "# cap = cv2.VideoCapture(0)\n",
    "\n",
    "# mp_hands = mp.solutions.hands\n",
    "\n",
    "# hands = mp_hands.Hands()\n",
    "# mp_draw = mp.solutions.drawing_utils\n",
    "\n",
    "# p_time = 0\n",
    "# c_time = 0\n",
    "\n",
    "# while True:\n",
    "#     success, image = cap.read()\n",
    "    \n",
    "#     img_RGB = cv2.cvtColor(image, cv2.COLOR_BGR2RGB)\n",
    "#     results = hands.process(img_RGB)\n",
    "    \n",
    "#     #print(results.multi_hand_landmarks)\n",
    "#     if results.multi_hand_landmarks:\n",
    "#         for hand_landmarks in results.multi_hand_landmarks:\n",
    "#             print(id, lm)\n",
    "    \n",
    "    \n",
    "#             for id, lm in enumerate(hand_landmarks.landmark):\n",
    "#                 h, w, c = image.shape\n",
    "#                 cx, cy = int(lm.x*w), int(lm.y*h)\n",
    "# #                 print(id, cx, cy)\n",
    "        \n",
    "            \n",
    "#                 if id == 4:\n",
    "#                     cv2.circle(image, (cx, cy), 15, (255,255,0), cv2.FILLED)\n",
    "\n",
    "#                 if id == 8:\n",
    "#                     cv2.circle(image, (cx, cy), 15, (255,255,0), cv2.FILLED)\n",
    "                    \n",
    "#                 if id == 12:\n",
    "#                     cv2.circle(image, (cx, cy), 15, (255,255,0), cv2.FILLED)\n",
    "                    \n",
    "#                 if id == 16:\n",
    "#                     cv2.circle(image, (cx, cy), 15, (255,255,0), cv2.FILLED)\n",
    "                    \n",
    "#                 if id == 20:\n",
    "#                     cv2.circle(image, (cx, cy), 15, (255,255,0), cv2.FILLED)\n",
    "            \n",
    "#             mp_draw.draw_landmarks(image, hand_landmarks, mp_hands.HAND_CONNECTIONS)\n",
    "    \n",
    "    \n",
    "#     c_time = time.time()\n",
    "#     fps = 1/(c_time-p_time)\n",
    "#     p_time = c_time\n",
    "    \n",
    "#     cv2.putText(image, str(int(fps)),(10,70), cv2.FONT_HERSHEY_COMPLEX, 3, (255,0,255),3)\n",
    "    \n",
    "#     cv2.imshow(\"Hand Tracking\", image)\n",
    "    \n",
    "#     if cv2.waitKey(10) & 0xFF == ord('q'):\n",
    "#         break\n",
    "    \n",
    "# cap.release()\n",
    "# cv2.destroyAllWindows()"
   ]
  },
  {
   "cell_type": "code",
   "execution_count": 6,
   "id": "bf05c74b",
   "metadata": {},
   "outputs": [
    {
     "ename": "KeyboardInterrupt",
     "evalue": "",
     "output_type": "error",
     "traceback": [
      "\u001b[1;31m---------------------------------------------------------------------------\u001b[0m",
      "\u001b[1;31mKeyboardInterrupt\u001b[0m                         Traceback (most recent call last)",
      "Cell \u001b[1;32mIn[6], line 29\u001b[0m\n\u001b[0;32m     21\u001b[0m \u001b[38;5;66;03m#     c_time = time.time()\u001b[39;00m\n\u001b[0;32m     22\u001b[0m \u001b[38;5;66;03m#     fps = 1/(c_time-p_time)\u001b[39;00m\n\u001b[0;32m     23\u001b[0m \u001b[38;5;66;03m#     p_time = c_time\u001b[39;00m\n\u001b[0;32m     24\u001b[0m     \n\u001b[0;32m     25\u001b[0m \u001b[38;5;66;03m#     cv2.putText(image, str(int(fps)),(10,70), cv2.FONT_HERSHEY_COMPLEX, 3, (255,0,255),3)\u001b[39;00m\n\u001b[0;32m     27\u001b[0m     cv2\u001b[38;5;241m.\u001b[39mimshow(\u001b[38;5;124m\"\u001b[39m\u001b[38;5;124mHand Tracking\u001b[39m\u001b[38;5;124m\"\u001b[39m, image)\n\u001b[1;32m---> 29\u001b[0m     \u001b[38;5;28;01mif\u001b[39;00m \u001b[43mcv2\u001b[49m\u001b[38;5;241;43m.\u001b[39;49m\u001b[43mwaitKey\u001b[49m\u001b[43m(\u001b[49m\u001b[38;5;241;43m10\u001b[39;49m\u001b[43m)\u001b[49m \u001b[38;5;241m&\u001b[39m \u001b[38;5;241m0xFF\u001b[39m \u001b[38;5;241m==\u001b[39m \u001b[38;5;28mord\u001b[39m(\u001b[38;5;124m'\u001b[39m\u001b[38;5;124mq\u001b[39m\u001b[38;5;124m'\u001b[39m):\n\u001b[0;32m     30\u001b[0m         \u001b[38;5;28;01mbreak\u001b[39;00m\n\u001b[0;32m     32\u001b[0m cap\u001b[38;5;241m.\u001b[39mrelease()\n",
      "\u001b[1;31mKeyboardInterrupt\u001b[0m: "
     ]
    }
   ],
   "source": [
    "cap = cv2.VideoCapture(0)\n",
    "\n",
    "mp_hands = mp.solutions.hands\n",
    "\n",
    "hands = mp_hands.Hands()\n",
    "mp_draw = mp.solutions.drawing_utils\n",
    "\n",
    "p_time = 0\n",
    "c_time = 0\n",
    "\n",
    "while True:\n",
    "    success, image = cap.read()\n",
    "    \n",
    "    img_RGB = cv2.cvtColor(image, cv2.COLOR_BGR2RGB)\n",
    "    results = hands.process(img_RGB)\n",
    "    \n",
    "    if results.multi_hand_landmarks:\n",
    "        for hand_landmarks in results.multi_hand_landmarks:\n",
    "            mp_draw.draw_landmarks(image, hand_landmarks)\n",
    "    \n",
    "#     c_time = time.time()\n",
    "#     fps = 1/(c_time-p_time)\n",
    "#     p_time = c_time\n",
    "    \n",
    "#     cv2.putText(image, str(int(fps)),(10,70), cv2.FONT_HERSHEY_COMPLEX, 3, (255,0,255),3)\n",
    "    \n",
    "    cv2.imshow(\"Hand Tracking\", image)\n",
    "    \n",
    "    if cv2.waitKey(10) & 0xFF == ord('q'):\n",
    "        break\n",
    "    \n",
    "cap.release()\n",
    "cv2.destroyAllWindows()"
   ]
  },
  {
   "cell_type": "code",
   "execution_count": null,
   "id": "b1be4adf",
   "metadata": {},
   "outputs": [],
   "source": []
  },
  {
   "cell_type": "code",
   "execution_count": null,
   "id": "6a0df110",
   "metadata": {},
   "outputs": [],
   "source": []
  },
  {
   "cell_type": "code",
   "execution_count": null,
   "id": "cf966aa2",
   "metadata": {},
   "outputs": [],
   "source": []
  }
 ],
 "metadata": {
  "kernelspec": {
   "display_name": "Python 3 (ipykernel)",
   "language": "python",
   "name": "python3"
  },
  "language_info": {
   "codemirror_mode": {
    "name": "ipython",
    "version": 3
   },
   "file_extension": ".py",
   "mimetype": "text/x-python",
   "name": "python",
   "nbconvert_exporter": "python",
   "pygments_lexer": "ipython3",
   "version": "3.11.5"
  }
 },
 "nbformat": 4,
 "nbformat_minor": 5
}
